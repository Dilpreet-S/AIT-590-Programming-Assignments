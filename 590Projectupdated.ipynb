{
  "nbformat": 4,
  "nbformat_minor": 0,
  "metadata": {
    "colab": {
      "name": "Untitled17.ipynb",
      "provenance": [],
      "authorship_tag": "ABX9TyM+XxVBSQP5xOAKeMv7cnrn",
      "include_colab_link": true
    },
    "kernelspec": {
      "name": "python3",
      "display_name": "Python 3"
    },
    "accelerator": "GPU"
  },
  "cells": [
    {
      "cell_type": "markdown",
      "metadata": {
        "id": "view-in-github",
        "colab_type": "text"
      },
      "source": [
        "<a href=\"https://colab.research.google.com/github/Dilpreet-S/AIT-590-Programming-Assignments/blob/master/590Projectupdated.ipynb\" target=\"_parent\"><img src=\"https://colab.research.google.com/assets/colab-badge.svg\" alt=\"Open In Colab\"/></a>"
      ]
    },
    {
      "cell_type": "markdown",
      "metadata": {
        "id": "xYytFtSxY5UN"
      },
      "source": [
        "**Understanding Data**\n"
      ]
    },
    {
      "cell_type": "code",
      "metadata": {
        "id": "Lk250RIwYVhJ"
      },
      "source": [
        "import pandas as pd\n",
        "import numpy as np \n",
        "import seaborn as sns\n",
        "import matplotlib.pyplot as plt"
      ],
      "execution_count": 1,
      "outputs": []
    },
    {
      "cell_type": "code",
      "metadata": {
        "id": "tcbmjOmbYpvS"
      },
      "source": [
        "data= pd.read_csv(\"/content/sentiment_result_updated.csv\")\n",
        "\n",
        "data1= pd.read_csv(\"/content/sentiment_result_updated.csv\")"
      ],
      "execution_count": 2,
      "outputs": []
    },
    {
      "cell_type": "code",
      "metadata": {
        "colab": {
          "base_uri": "https://localhost:8080/"
        },
        "id": "MpbNPzeeYtcs",
        "outputId": "1d254af2-e690-49c6-f287-cf9fbf1a595c"
      },
      "source": [
        "data.shape"
      ],
      "execution_count": 3,
      "outputs": [
        {
          "output_type": "execute_result",
          "data": {
            "text/plain": [
              "(120016, 18)"
            ]
          },
          "metadata": {
            "tags": []
          },
          "execution_count": 3
        }
      ]
    },
    {
      "cell_type": "code",
      "metadata": {
        "colab": {
          "base_uri": "https://localhost:8080/",
          "height": 202
        },
        "id": "QbnOrghJYxJ_",
        "outputId": "ed3ccc4a-e3de-4333-bfd7-3e48946444bf"
      },
      "source": [
        "data.head()"
      ],
      "execution_count": 4,
      "outputs": [
        {
          "output_type": "execute_result",
          "data": {
            "text/html": [
              "<div>\n",
              "<style scoped>\n",
              "    .dataframe tbody tr th:only-of-type {\n",
              "        vertical-align: middle;\n",
              "    }\n",
              "\n",
              "    .dataframe tbody tr th {\n",
              "        vertical-align: top;\n",
              "    }\n",
              "\n",
              "    .dataframe thead th {\n",
              "        text-align: right;\n",
              "    }\n",
              "</style>\n",
              "<table border=\"1\" class=\"dataframe\">\n",
              "  <thead>\n",
              "    <tr style=\"text-align: right;\">\n",
              "      <th></th>\n",
              "      <th>Category</th>\n",
              "      <th>Reservation</th>\n",
              "      <th>Noise Level</th>\n",
              "      <th>WiFi</th>\n",
              "      <th>Trendy</th>\n",
              "      <th>Upscale</th>\n",
              "      <th>Casual</th>\n",
              "      <th>Good For Groups</th>\n",
              "      <th>Good For Kids</th>\n",
              "      <th>Alcohol</th>\n",
              "      <th>Delivery</th>\n",
              "      <th>Takeout</th>\n",
              "      <th>Price Range</th>\n",
              "      <th>Emotion</th>\n",
              "      <th>WiFi T/F</th>\n",
              "      <th>Alcohol T/F</th>\n",
              "      <th>Unnamed: 16</th>\n",
              "      <th>Unnamed: 17</th>\n",
              "    </tr>\n",
              "  </thead>\n",
              "  <tbody>\n",
              "    <tr>\n",
              "      <th>0</th>\n",
              "      <td>nightlife</td>\n",
              "      <td>True</td>\n",
              "      <td>average</td>\n",
              "      <td>free</td>\n",
              "      <td>False</td>\n",
              "      <td>False</td>\n",
              "      <td>True</td>\n",
              "      <td>True</td>\n",
              "      <td>True</td>\n",
              "      <td>full bar</td>\n",
              "      <td>False</td>\n",
              "      <td>True</td>\n",
              "      <td>2.0</td>\n",
              "      <td>negative</td>\n",
              "      <td>True</td>\n",
              "      <td>True</td>\n",
              "      <td>NaN</td>\n",
              "      <td>NaN</td>\n",
              "    </tr>\n",
              "    <tr>\n",
              "      <th>1</th>\n",
              "      <td>american</td>\n",
              "      <td>True</td>\n",
              "      <td>average</td>\n",
              "      <td>free</td>\n",
              "      <td>False</td>\n",
              "      <td>False</td>\n",
              "      <td>True</td>\n",
              "      <td>True</td>\n",
              "      <td>True</td>\n",
              "      <td>full bar</td>\n",
              "      <td>False</td>\n",
              "      <td>True</td>\n",
              "      <td>2.0</td>\n",
              "      <td>negative</td>\n",
              "      <td>True</td>\n",
              "      <td>True</td>\n",
              "      <td>NaN</td>\n",
              "      <td>NaN</td>\n",
              "    </tr>\n",
              "    <tr>\n",
              "      <th>2</th>\n",
              "      <td>bars</td>\n",
              "      <td>True</td>\n",
              "      <td>average</td>\n",
              "      <td>free</td>\n",
              "      <td>False</td>\n",
              "      <td>False</td>\n",
              "      <td>True</td>\n",
              "      <td>True</td>\n",
              "      <td>True</td>\n",
              "      <td>full bar</td>\n",
              "      <td>False</td>\n",
              "      <td>True</td>\n",
              "      <td>2.0</td>\n",
              "      <td>negative</td>\n",
              "      <td>True</td>\n",
              "      <td>True</td>\n",
              "      <td>NaN</td>\n",
              "      <td>NaN</td>\n",
              "    </tr>\n",
              "    <tr>\n",
              "      <th>3</th>\n",
              "      <td>sandwiches</td>\n",
              "      <td>False</td>\n",
              "      <td>loud</td>\n",
              "      <td>no</td>\n",
              "      <td>False</td>\n",
              "      <td>False</td>\n",
              "      <td>True</td>\n",
              "      <td>True</td>\n",
              "      <td>True</td>\n",
              "      <td>no</td>\n",
              "      <td>False</td>\n",
              "      <td>True</td>\n",
              "      <td>1.0</td>\n",
              "      <td>neutral</td>\n",
              "      <td>False</td>\n",
              "      <td>False</td>\n",
              "      <td>NaN</td>\n",
              "      <td>NaN</td>\n",
              "    </tr>\n",
              "    <tr>\n",
              "      <th>4</th>\n",
              "      <td>sandwiches</td>\n",
              "      <td>False</td>\n",
              "      <td>average</td>\n",
              "      <td>no</td>\n",
              "      <td>False</td>\n",
              "      <td>False</td>\n",
              "      <td>True</td>\n",
              "      <td>True</td>\n",
              "      <td>True</td>\n",
              "      <td>no</td>\n",
              "      <td>True</td>\n",
              "      <td>True</td>\n",
              "      <td>1.0</td>\n",
              "      <td>neutral</td>\n",
              "      <td>False</td>\n",
              "      <td>False</td>\n",
              "      <td>NaN</td>\n",
              "      <td>NaN</td>\n",
              "    </tr>\n",
              "  </tbody>\n",
              "</table>\n",
              "</div>"
            ],
            "text/plain": [
              "     Category Reservation Noise Level  ... Alcohol T/F Unnamed: 16 Unnamed: 17\n",
              "0   nightlife        True     average  ...        True         NaN         NaN\n",
              "1    american        True     average  ...        True         NaN         NaN\n",
              "2        bars        True     average  ...        True         NaN         NaN\n",
              "3  sandwiches       False        loud  ...       False         NaN         NaN\n",
              "4  sandwiches       False     average  ...       False         NaN         NaN\n",
              "\n",
              "[5 rows x 18 columns]"
            ]
          },
          "metadata": {
            "tags": []
          },
          "execution_count": 4
        }
      ]
    },
    {
      "cell_type": "code",
      "metadata": {
        "id": "Py_JR-znYxN_"
      },
      "source": [
        "# Removing Unwanted Column\n",
        "\n",
        "data=data.drop(columns=['Unnamed: 16','Unnamed: 17','WiFi','Alcohol'])\n",
        "data1=data1.drop(columns=['Unnamed: 16','Unnamed: 17'])\n"
      ],
      "execution_count": 5,
      "outputs": []
    },
    {
      "cell_type": "code",
      "metadata": {
        "colab": {
          "base_uri": "https://localhost:8080/"
        },
        "id": "w0GLzpSuYxRm",
        "outputId": "8248b1e0-08fe-415e-8799-69ad6fed6431"
      },
      "source": [
        "data.shape"
      ],
      "execution_count": 6,
      "outputs": [
        {
          "output_type": "execute_result",
          "data": {
            "text/plain": [
              "(120016, 14)"
            ]
          },
          "metadata": {
            "tags": []
          },
          "execution_count": 6
        }
      ]
    },
    {
      "cell_type": "code",
      "metadata": {
        "colab": {
          "base_uri": "https://localhost:8080/"
        },
        "id": "KuImncDwaC70",
        "outputId": "bb57478d-6df5-4233-ed62-91387efb1db1"
      },
      "source": [
        "data.dtypes"
      ],
      "execution_count": 7,
      "outputs": [
        {
          "output_type": "execute_result",
          "data": {
            "text/plain": [
              "Category            object\n",
              "Reservation         object\n",
              "Noise Level         object\n",
              "Trendy              object\n",
              "Upscale             object\n",
              "Casual              object\n",
              "Good For Groups     object\n",
              "Good For Kids       object\n",
              "Delivery            object\n",
              "Takeout             object\n",
              "Price Range        float64\n",
              "Emotion             object\n",
              "WiFi T/F            object\n",
              "Alcohol T/F         object\n",
              "dtype: object"
            ]
          },
          "metadata": {
            "tags": []
          },
          "execution_count": 7
        }
      ]
    },
    {
      "cell_type": "markdown",
      "metadata": {
        "id": "ZNP7ZrvihS7x"
      },
      "source": [
        "** Missing Values**"
      ]
    },
    {
      "cell_type": "code",
      "metadata": {
        "id": "1ztze6nLhSJQ"
      },
      "source": [
        "import missingno as msno"
      ],
      "execution_count": 8,
      "outputs": []
    },
    {
      "cell_type": "code",
      "metadata": {
        "colab": {
          "base_uri": "https://localhost:8080/"
        },
        "id": "sA4jnamVhoMQ",
        "outputId": "bbaf310b-1ed9-47f2-dce6-db77c563b761"
      },
      "source": [
        "data.isna().sum()"
      ],
      "execution_count": 9,
      "outputs": [
        {
          "output_type": "execute_result",
          "data": {
            "text/plain": [
              "Category              0\n",
              "Reservation        2133\n",
              "Noise Level        3470\n",
              "Trendy             7342\n",
              "Upscale            5481\n",
              "Casual             4938\n",
              "Good For Groups    1453\n",
              "Good For Kids       847\n",
              "Delivery           3713\n",
              "Takeout            1939\n",
              "Price Range         598\n",
              "Emotion               1\n",
              "WiFi T/F           2606\n",
              "Alcohol T/F        1930\n",
              "dtype: int64"
            ]
          },
          "metadata": {
            "tags": []
          },
          "execution_count": 9
        }
      ]
    },
    {
      "cell_type": "code",
      "metadata": {
        "colab": {
          "base_uri": "https://localhost:8080/",
          "height": 817
        },
        "id": "wDbdEmmdhfgG",
        "outputId": "70f34fc9-843a-4198-9174-0570804b9a42"
      },
      "source": [
        "msno.heatmap(data)"
      ],
      "execution_count": 10,
      "outputs": [
        {
          "output_type": "execute_result",
          "data": {
            "text/plain": [
              "<matplotlib.axes._subplots.AxesSubplot at 0x7f945123d668>"
            ]
          },
          "metadata": {
            "tags": []
          },
          "execution_count": 10
        },
        {
          "output_type": "display_data",
          "data": {
            "image/png": "[encoded data removed]",
            "text/plain": [
              "<Figure size 1440x864 with 2 Axes>"
            ]
          },
          "metadata": {
            "tags": [],
            "needs_background": "light"
          }
        }
      ]
    },
    {
      "cell_type": "code",
      "metadata": {
        "colab": {
          "base_uri": "https://localhost:8080/",
          "height": 716
        },
        "id": "TnNb8aUFhhc_",
        "outputId": "a20888a7-935f-4d90-9fbc-88fa6bc921cd"
      },
      "source": [
        "msno.matrix(data)"
      ],
      "execution_count": 11,
      "outputs": [
        {
          "output_type": "execute_result",
          "data": {
            "text/plain": [
              "<matplotlib.axes._subplots.AxesSubplot at 0x7f944cbb2550>"
            ]
          },
          "metadata": {
            "tags": []
          },
          "execution_count": 11
        },
        {
          "output_type": "display_data",
          "data": {
            "image/png": "[encoded data removed]",
            "text/plain": [
              "<Figure size 1800x720 with 2 Axes>"
            ]
          },
          "metadata": {
            "tags": [],
            "needs_background": "light"
          }
        }
      ]
    },
    {
      "cell_type": "code",
      "metadata": {
        "id": "510ftnnRhkig"
      },
      "source": [
        "data=data.dropna(axis=0)\n",
        "data1=data1.dropna(axis=0)"
      ],
      "execution_count": 12,
      "outputs": []
    },
    {
      "cell_type": "code",
      "metadata": {
        "colab": {
          "base_uri": "https://localhost:8080/"
        },
        "id": "M0jNDmUlh0aF",
        "outputId": "8e36fd01-22be-4180-bea4-7d61b8b4fc94"
      },
      "source": [
        "data.shape"
      ],
      "execution_count": 13,
      "outputs": [
        {
          "output_type": "execute_result",
          "data": {
            "text/plain": [
              "(103141, 14)"
            ]
          },
          "metadata": {
            "tags": []
          },
          "execution_count": 13
        }
      ]
    },
    {
      "cell_type": "code",
      "metadata": {
        "colab": {
          "base_uri": "https://localhost:8080/",
          "height": 716
        },
        "id": "6U6_wjhUh5e1",
        "outputId": "86dcb06f-fa4f-4fac-9c42-46aba56ce9a2"
      },
      "source": [
        "msno.matrix(data)"
      ],
      "execution_count": 14,
      "outputs": [
        {
          "output_type": "execute_result",
          "data": {
            "text/plain": [
              "<matplotlib.axes._subplots.AxesSubplot at 0x7f944c785208>"
            ]
          },
          "metadata": {
            "tags": []
          },
          "execution_count": 14
        },
        {
          "output_type": "display_data",
          "data": {
            "image/png": "[encoded data removed]",
            "text/plain": [
              "<Figure size 1800x720 with 2 Axes>"
            ]
          },
          "metadata": {
            "tags": [],
            "needs_background": "light"
          }
        }
      ]
    },
    {
      "cell_type": "code",
      "metadata": {
        "id": "goA5122eYxUy"
      },
      "source": [
        "# Converting Categorical data to numeric data\n",
        "\n",
        "data['Reservation']=data['Reservation'].map(lambda i:0 if i== 'False' else 1)\n",
        "data['Trendy']=data['Trendy'].map(lambda i:0 if i== 'False' else 1)\n",
        "data['Upscale']=data['Upscale'].map(lambda i:0 if i== 'False' else 1)\n",
        "data['Casual']=data['Casual'].map(lambda i:0 if i== 'False' else 1)\n",
        "data['Good For Groups']=data['Good For Groups'].map(lambda i:0 if i== 'False' else 1)\n",
        "data['Good For Kids']=data['Good For Kids'].map(lambda i:0 if i== 'False' else 1)\n",
        "data['Delivery']=data['Delivery'].map(lambda i:0 if i== 'False' else 1)\n",
        "data['Takeout']=data['Takeout'].map(lambda i:0 if i== 'False' else 1)\n",
        "data['WiFi T/F']=data['WiFi T/F'].map(lambda i:0 if i== 'False' else 1)\n",
        "data['Alcohol T/F']=data['Alcohol T/F'].map(lambda i:0 if i== 'False' else 1)\n",
        "\n"
      ],
      "execution_count": 15,
      "outputs": []
    },
    {
      "cell_type": "code",
      "metadata": {
        "id": "7nWGq9vojdij"
      },
      "source": [
        "# For Noise Level and Price I have Normalised both that is range is 0-1"
      ],
      "execution_count": 16,
      "outputs": []
    },
    {
      "cell_type": "code",
      "metadata": {
        "id": "xOvpuiilcTBs"
      },
      "source": [
        "#Noise level\n",
        "# As logic is the more loud the less numerical weightage, that is number so very loud is 0\n",
        "data['Noise Level'] = data['Noise Level'].map({'very loud': 0, 'loud': 1, 'average': 2, 'quiet': 3})\n",
        " \n",
        "data['Noise Level']=(data['Noise Level']-data['Noise Level'].min())/(data['Noise Level'].max()-data['Noise Level'].min())     "
      ],
      "execution_count": 17,
      "outputs": []
    },
    {
      "cell_type": "code",
      "metadata": {
        "id": "kBGO-8Hnip_2"
      },
      "source": [
        "# Price \n",
        "# The more the price the less numeric weightage, so 4 =0\n",
        "data['Price Range'] = data['Price Range'].map({4: 0, 3: 1, 2: 2, 1: 3})\n",
        "\n",
        "data['Price Range']=(data['Price Range']-data['Price Range'].min())/(data['Price Range'].max()-data['Price Range'].min())"
      ],
      "execution_count": 18,
      "outputs": []
    },
    {
      "cell_type": "code",
      "metadata": {
        "colab": {
          "base_uri": "https://localhost:8080/"
        },
        "id": "QO-udZXso3EC",
        "outputId": "0834a812-dc7b-4060-982d-e73b91ed52ab"
      },
      "source": [
        "data.dtypes"
      ],
      "execution_count": 19,
      "outputs": [
        {
          "output_type": "execute_result",
          "data": {
            "text/plain": [
              "Category            object\n",
              "Reservation          int64\n",
              "Noise Level        float64\n",
              "Trendy               int64\n",
              "Upscale              int64\n",
              "Casual               int64\n",
              "Good For Groups      int64\n",
              "Good For Kids        int64\n",
              "Delivery             int64\n",
              "Takeout              int64\n",
              "Price Range        float64\n",
              "Emotion             object\n",
              "WiFi T/F             int64\n",
              "Alcohol T/F          int64\n",
              "dtype: object"
            ]
          },
          "metadata": {
            "tags": []
          },
          "execution_count": 19
        }
      ]
    },
    {
      "cell_type": "markdown",
      "metadata": {
        "id": "_0JmoaNFoodq"
      },
      "source": [
        "**EDA**"
      ]
    },
    {
      "cell_type": "code",
      "metadata": {
        "colab": {
          "base_uri": "https://localhost:8080/",
          "height": 913
        },
        "id": "cZZaDg3tjYqZ",
        "outputId": "143cb90b-f7fa-4427-c299-6a1bfe3958ed"
      },
      "source": [
        "#Category\n",
        "\n",
        "fig = plt.figure(figsize = (30,20))\n",
        "ax1 = fig.add_subplot(2,3,1)\n",
        "chart=sns.countplot(data =data1, x = 'Category', ax=ax1)\n",
        "chart.set_xticklabels(chart.get_xticklabels(), rotation=45, horizontalalignment='right')\n",
        "\n",
        "fig = plt.figure(figsize = (15,10))\n",
        "ax1 = fig.add_subplot(2,3,5)\n",
        "chart=sns.countplot(data = data1, x = 'Emotion', ax=ax1)"
      ],
      "execution_count": 20,
      "outputs": [
        {
          "output_type": "display_data",
          "data": {
            "image/png": "[encoded data removed]",
            "text/plain": [
              "<Figure size 2160x1440 with 1 Axes>"
            ]
          },
          "metadata": {
            "tags": [],
            "needs_background": "light"
          }
        },
        {
          "output_type": "display_data",
          "data": {
            "image/png": "[encoded data removed]",
            "text/plain": [
              "<Figure size 1080x720 with 1 Axes>"
            ]
          },
          "metadata": {
            "tags": [],
            "needs_background": "light"
          }
        }
      ]
    },
    {
      "cell_type": "code",
      "metadata": {
        "colab": {
          "base_uri": "https://localhost:8080/",
          "height": 606
        },
        "id": "1_S2UWD8YxXI",
        "outputId": "1b1ff555-6099-4777-df0c-fb6ddcb230d0"
      },
      "source": [
        "fig = plt.figure(figsize = (15,10))\n",
        "\n",
        "ax1 = fig.add_subplot(2,3,1)\n",
        "chart=sns.countplot(data = data1, x = 'Reservation', ax=ax1)\n",
        "\n",
        "ax1 = fig.add_subplot(2,3,2)\n",
        "chart=sns.countplot(data = data1, x = 'Noise Level', ax=ax1)\n",
        "\n",
        "ax1 = fig.add_subplot(2,3,3)\n",
        "chart=sns.countplot(data = data1, x = 'WiFi', ax=ax1)\n",
        "\n",
        "ax1 = fig.add_subplot(2,3,4)\n",
        "chart=sns.countplot(data = data1, x = 'Trendy', ax=ax1)\n",
        "\n",
        "\n",
        "ax1 = fig.add_subplot(2,3,5)\n",
        "chart=sns.countplot(data = data1, x = 'Upscale', ax=ax1)\n",
        "\n",
        "\n",
        "ax1 = fig.add_subplot(2,3,6)\n",
        "chart=sns.countplot(data = data1, x = 'Casual', ax=ax1)\n",
        "\n",
        "\n"
      ],
      "execution_count": 21,
      "outputs": [
        {
          "output_type": "display_data",
          "data": {
            "image/png": "[encoded data removed]",
            "text/plain": [
              "<Figure size 1080x720 with 6 Axes>"
            ]
          },
          "metadata": {
            "tags": [],
            "needs_background": "light"
          }
        }
      ]
    },
    {
      "cell_type": "code",
      "metadata": {
        "colab": {
          "base_uri": "https://localhost:8080/",
          "height": 606
        },
        "id": "vEMgIlvfYxaI",
        "outputId": "74a7380a-cf90-4d57-974a-6b7bb9ccd9c0"
      },
      "source": [
        "fig = plt.figure(figsize = (15,10))\n",
        "\n",
        "ax1 = fig.add_subplot(2,3,1)\n",
        "chart=sns.countplot(data = data1, x = 'Good For Groups', ax=ax1)\n",
        "\n",
        "\n",
        "ax1 = fig.add_subplot(2,3,2)\n",
        "chart=sns.countplot(data = data1, x = 'Good For Kids', ax=ax1)\n",
        "\n",
        "ax1 = fig.add_subplot(2,3,3)\n",
        "chart=sns.countplot(data = data1, x = 'Alcohol', ax=ax1)\n",
        "\n",
        "\n",
        "ax1 = fig.add_subplot(2,3,4)\n",
        "chart=sns.countplot(data = data1, x = 'Delivery', ax=ax1)\n",
        "\n",
        "\n"
      ],
      "execution_count": 22,
      "outputs": [
        {
          "output_type": "display_data",
          "data": {
            "image/png": "[encoded data removed]",
            "text/plain": [
              "<Figure size 1080x720 with 4 Axes>"
            ]
          },
          "metadata": {
            "tags": [],
            "needs_background": "light"
          }
        }
      ]
    },
    {
      "cell_type": "code",
      "metadata": {
        "colab": {
          "base_uri": "https://localhost:8080/",
          "height": 309
        },
        "id": "pLkbCZcertxa",
        "outputId": "c0dfb4d7-a817-4df2-bae1-d97343148623"
      },
      "source": [
        "fig = plt.figure(figsize = (15,10))\n",
        "\n",
        "ax1 = fig.add_subplot(2,3,1)\n",
        "chart=sns.countplot(data = data1, x = 'Alcohol T/F', ax=ax1)\n",
        "\n",
        "\n",
        "ax1 = fig.add_subplot(2,3,2)\n",
        "chart=sns.countplot(data = data1, x = 'WiFi T/F', ax=ax1)\n"
      ],
      "execution_count": 23,
      "outputs": [
        {
          "output_type": "display_data",
          "data": {
            "image/png": "[encoded data removed]",
            "text/plain": [
              "<Figure size 1080x720 with 2 Axes>"
            ]
          },
          "metadata": {
            "tags": [],
            "needs_background": "light"
          }
        }
      ]
    },
    {
      "cell_type": "markdown",
      "metadata": {
        "id": "iYeti1YDu6sn"
      },
      "source": [
        "**Model**"
      ]
    },
    {
      "cell_type": "code",
      "metadata": {
        "id": "KCgbHLtdvD84"
      },
      "source": [
        "#independent and dependent feature\n",
        "import random\n",
        "\n",
        "x=data.iloc[:,1:]\n",
        "y=data.iloc[:,0]"
      ],
      "execution_count": 24,
      "outputs": []
    },
    {
      "cell_type": "code",
      "metadata": {
        "colab": {
          "base_uri": "https://localhost:8080/",
          "height": 202
        },
        "id": "JoI0hhvlvGdS",
        "outputId": "82c5fb68-fe63-4baa-95fb-d69d455ecb66"
      },
      "source": [
        "# Performing one hot encoding on Emotion\n",
        "\n",
        "x=pd.get_dummies(x,drop_first=True)\n",
        "x.head()"
      ],
      "execution_count": 25,
      "outputs": [
        {
          "output_type": "execute_result",
          "data": {
            "text/html": [
              "<div>\n",
              "<style scoped>\n",
              "    .dataframe tbody tr th:only-of-type {\n",
              "        vertical-align: middle;\n",
              "    }\n",
              "\n",
              "    .dataframe tbody tr th {\n",
              "        vertical-align: top;\n",
              "    }\n",
              "\n",
              "    .dataframe thead th {\n",
              "        text-align: right;\n",
              "    }\n",
              "</style>\n",
              "<table border=\"1\" class=\"dataframe\">\n",
              "  <thead>\n",
              "    <tr style=\"text-align: right;\">\n",
              "      <th></th>\n",
              "      <th>Reservation</th>\n",
              "      <th>Noise Level</th>\n",
              "      <th>Trendy</th>\n",
              "      <th>Upscale</th>\n",
              "      <th>Casual</th>\n",
              "      <th>Good For Groups</th>\n",
              "      <th>Good For Kids</th>\n",
              "      <th>Delivery</th>\n",
              "      <th>Takeout</th>\n",
              "      <th>Price Range</th>\n",
              "      <th>WiFi T/F</th>\n",
              "      <th>Alcohol T/F</th>\n",
              "      <th>Emotion_neutral</th>\n",
              "      <th>Emotion_positive</th>\n",
              "    </tr>\n",
              "  </thead>\n",
              "  <tbody>\n",
              "    <tr>\n",
              "      <th>0</th>\n",
              "      <td>1</td>\n",
              "      <td>0.666667</td>\n",
              "      <td>1</td>\n",
              "      <td>1</td>\n",
              "      <td>1</td>\n",
              "      <td>1</td>\n",
              "      <td>1</td>\n",
              "      <td>1</td>\n",
              "      <td>1</td>\n",
              "      <td>0.666667</td>\n",
              "      <td>1</td>\n",
              "      <td>1</td>\n",
              "      <td>0</td>\n",
              "      <td>0</td>\n",
              "    </tr>\n",
              "    <tr>\n",
              "      <th>1</th>\n",
              "      <td>1</td>\n",
              "      <td>0.666667</td>\n",
              "      <td>1</td>\n",
              "      <td>1</td>\n",
              "      <td>1</td>\n",
              "      <td>1</td>\n",
              "      <td>1</td>\n",
              "      <td>1</td>\n",
              "      <td>1</td>\n",
              "      <td>0.666667</td>\n",
              "      <td>1</td>\n",
              "      <td>1</td>\n",
              "      <td>0</td>\n",
              "      <td>0</td>\n",
              "    </tr>\n",
              "    <tr>\n",
              "      <th>2</th>\n",
              "      <td>1</td>\n",
              "      <td>0.666667</td>\n",
              "      <td>1</td>\n",
              "      <td>1</td>\n",
              "      <td>1</td>\n",
              "      <td>1</td>\n",
              "      <td>1</td>\n",
              "      <td>1</td>\n",
              "      <td>1</td>\n",
              "      <td>0.666667</td>\n",
              "      <td>1</td>\n",
              "      <td>1</td>\n",
              "      <td>0</td>\n",
              "      <td>0</td>\n",
              "    </tr>\n",
              "    <tr>\n",
              "      <th>3</th>\n",
              "      <td>1</td>\n",
              "      <td>0.333333</td>\n",
              "      <td>1</td>\n",
              "      <td>1</td>\n",
              "      <td>1</td>\n",
              "      <td>1</td>\n",
              "      <td>1</td>\n",
              "      <td>1</td>\n",
              "      <td>1</td>\n",
              "      <td>1.000000</td>\n",
              "      <td>1</td>\n",
              "      <td>1</td>\n",
              "      <td>1</td>\n",
              "      <td>0</td>\n",
              "    </tr>\n",
              "    <tr>\n",
              "      <th>4</th>\n",
              "      <td>1</td>\n",
              "      <td>0.666667</td>\n",
              "      <td>1</td>\n",
              "      <td>1</td>\n",
              "      <td>1</td>\n",
              "      <td>1</td>\n",
              "      <td>1</td>\n",
              "      <td>1</td>\n",
              "      <td>1</td>\n",
              "      <td>1.000000</td>\n",
              "      <td>1</td>\n",
              "      <td>1</td>\n",
              "      <td>1</td>\n",
              "      <td>0</td>\n",
              "    </tr>\n",
              "  </tbody>\n",
              "</table>\n",
              "</div>"
            ],
            "text/plain": [
              "   Reservation  Noise Level  ...  Emotion_neutral  Emotion_positive\n",
              "0            1     0.666667  ...                0                 0\n",
              "1            1     0.666667  ...                0                 0\n",
              "2            1     0.666667  ...                0                 0\n",
              "3            1     0.333333  ...                1                 0\n",
              "4            1     0.666667  ...                1                 0\n",
              "\n",
              "[5 rows x 14 columns]"
            ]
          },
          "metadata": {
            "tags": []
          },
          "execution_count": 25
        }
      ]
    },
    {
      "cell_type": "code",
      "metadata": {
        "colab": {
          "base_uri": "https://localhost:8080/"
        },
        "id": "K9rUlQEevGag",
        "outputId": "e99634d8-9799-41a9-d2f3-05c1c5ce2e97"
      },
      "source": [
        "y.head()"
      ],
      "execution_count": 26,
      "outputs": [
        {
          "output_type": "execute_result",
          "data": {
            "text/plain": [
              "0     nightlife\n",
              "1      american\n",
              "2          bars\n",
              "3    sandwiches\n",
              "4    sandwiches\n",
              "Name: Category, dtype: object"
            ]
          },
          "metadata": {
            "tags": []
          },
          "execution_count": 26
        }
      ]
    },
    {
      "cell_type": "markdown",
      "metadata": {
        "id": "-HISYhqfu9zf"
      },
      "source": [
        "**Random Forest**"
      ]
    },
    {
      "cell_type": "code",
      "metadata": {
        "colab": {
          "base_uri": "https://localhost:8080/"
        },
        "id": "Ba-Vc0wcu6Jc",
        "outputId": "0a42e609-dcce-4078-8f42-b168224bf8ea"
      },
      "source": [
        "random.seed(123)\n",
        "from sklearn.ensemble import RandomForestClassifier\n",
        "model=RandomForestClassifier()\n",
        "model.fit(x,y)"
      ],
      "execution_count": 27,
      "outputs": [
        {
          "output_type": "execute_result",
          "data": {
            "text/plain": [
              "RandomForestClassifier(bootstrap=True, ccp_alpha=0.0, class_weight=None,\n",
              "                       criterion='gini', max_depth=None, max_features='auto',\n",
              "                       max_leaf_nodes=None, max_samples=None,\n",
              "                       min_impurity_decrease=0.0, min_impurity_split=None,\n",
              "                       min_samples_leaf=1, min_samples_split=2,\n",
              "                       min_weight_fraction_leaf=0.0, n_estimators=100,\n",
              "                       n_jobs=None, oob_score=False, random_state=None,\n",
              "                       verbose=0, warm_start=False)"
            ]
          },
          "metadata": {
            "tags": []
          },
          "execution_count": 27
        }
      ]
    },
    {
      "cell_type": "code",
      "metadata": {
        "colab": {
          "base_uri": "https://localhost:8080/"
        },
        "id": "7KwxOMmTwWYh",
        "outputId": "ed4b0632-de9f-4384-a4a7-465448ebd2d5"
      },
      "source": [
        "print(model.feature_importances_)"
      ],
      "execution_count": 28,
      "outputs": [
        {
          "output_type": "stream",
          "text": [
            "[0.         0.24518094 0.         0.         0.         0.\n",
            " 0.         0.         0.         0.71838971 0.         0.\n",
            " 0.02042782 0.01600153]\n"
          ],
          "name": "stdout"
        }
      ]
    },
    {
      "cell_type": "code",
      "metadata": {
        "colab": {
          "base_uri": "https://localhost:8080/",
          "height": 265
        },
        "id": "1XcbJvptwYXs",
        "outputId": "7f68b2fc-f8f1-4df9-ec6b-ea7e0f30bfe5"
      },
      "source": [
        "\n",
        "#plot graph of feature importance \n",
        "\n",
        "feat_importances= pd.Series(model.feature_importances_, index=x.columns)\n",
        "feat_importances.nlargest(5).plot(kind='barh')\n",
        "plt.show()"
      ],
      "execution_count": 29,
      "outputs": [
        {
          "output_type": "display_data",
          "data": {
            "image/png": "[encoded data removed]",
            "text/plain": [
              "<Figure size 432x288 with 1 Axes>"
            ]
          },
          "metadata": {
            "tags": [],
            "needs_background": "light"
          }
        }
      ]
    },
    {
      "cell_type": "code",
      "metadata": {
        "id": "HlE64S-ZwzGo"
      },
      "source": [
        "random.seed(123)\n",
        "from sklearn.model_selection import train_test_split\n",
        "x_train,x_test,y_train,y_test=train_test_split(x,y,test_size=0.3)"
      ],
      "execution_count": 30,
      "outputs": []
    },
    {
      "cell_type": "code",
      "metadata": {
        "colab": {
          "base_uri": "https://localhost:8080/"
        },
        "id": "nToUZ7AawzI3",
        "outputId": "490ffc0a-309f-4fb6-e9d8-94503da188fb"
      },
      "source": [
        "print('Train : ', x_train.shape, '\\n'\n",
        "      'Test  : ', x_test.shape)\n"
      ],
      "execution_count": 31,
      "outputs": [
        {
          "output_type": "stream",
          "text": [
            "Train :  (72198, 14) \n",
            "Test  :  (30943, 14)\n"
          ],
          "name": "stdout"
        }
      ]
    },
    {
      "cell_type": "code",
      "metadata": {
        "id": "rKNJCnEKwzEo"
      },
      "source": [
        "from sklearn import model_selection\n",
        "\n",
        "random.seed(123)\n",
        "\n",
        "rfc = RandomForestClassifier()\n",
        "rfc.fit(x_train,y_train)\n",
        "\n",
        "# predictions\n",
        "rfc_predict = rfc.predict(x_test)"
      ],
      "execution_count": 32,
      "outputs": []
    },
    {
      "cell_type": "code",
      "metadata": {
        "id": "l-kqlXKq0HUL"
      },
      "source": [
        "from sklearn import metrics  \n",
        "from sklearn.model_selection import cross_val_score\n",
        "from sklearn.metrics import classification_report, multilabel_confusion_matrix, accuracy_score,recall_score"
      ],
      "execution_count": 33,
      "outputs": []
    },
    {
      "cell_type": "code",
      "metadata": {
        "colab": {
          "base_uri": "https://localhost:8080/"
        },
        "id": "Vp3nVqal0HaA",
        "outputId": "cf85ed39-3e67-42d9-dd3d-47c027efb75f"
      },
      "source": [
        "print(\"=== Confusion Matrix ===\")\n",
        "\n",
        "print(multilabel_confusion_matrix(y_test, rfc_predict, labels= [\"american\",\n",
        "                                  \"asian fusion\",\"bars\",\"breakfast & brunch\",\n",
        "                                  \"burgers\",\"chinese\",\"cocktail bars\",\"italian\",\n",
        "                                  \"japanese\",\"mexican\",\"nightlife\",\"pizza\",\n",
        "                                  \"sandwiches\",\"seafood\",\"steakhouses\",\"sushi bars\"]))\n",
        "\n",
        "print('\\n')\n",
        "print(\"=== Accuracy ===\")\n",
        "print(accuracy_score(y_test,rfc_predict))\n",
        "print('\\n')\n",
        "print(\"=== Classification Report ===\")\n",
        "print(classification_report(y_test, rfc_predict))\n"
      ],
      "execution_count": 34,
      "outputs": [
        {
          "output_type": "stream",
          "text": [
            "=== Confusion Matrix ===\n",
            "[[[16315 10211]\n",
            "  [ 2753  1664]]\n",
            "\n",
            " [[29827     0]\n",
            "  [ 1116     0]]\n",
            "\n",
            " [[25133  1698]\n",
            "  [ 3577   535]]\n",
            "\n",
            " [[28187    70]\n",
            "  [ 2660    26]]\n",
            "\n",
            " [[29677     0]\n",
            "  [ 1266     0]]\n",
            "\n",
            " [[29693   212]\n",
            "  [  993    45]]\n",
            "\n",
            " [[29825     3]\n",
            "  [ 1115     0]]\n",
            "\n",
            " [[29488     2]\n",
            "  [ 1453     0]]\n",
            "\n",
            " [[29456     4]\n",
            "  [ 1483     0]]\n",
            "\n",
            " [[29282     3]\n",
            "  [ 1656     2]]\n",
            "\n",
            " [[16805  9944]\n",
            "  [ 2405  1789]]\n",
            "\n",
            " [[29596     8]\n",
            "  [ 1337     2]]\n",
            "\n",
            " [[26309  3048]\n",
            "  [  953   633]]\n",
            "\n",
            " [[29582    22]\n",
            "  [ 1324    15]]\n",
            "\n",
            " [[29136   721]\n",
            "  [  802   284]]\n",
            "\n",
            " [[29887     1]\n",
            "  [ 1054     1]]]\n",
            "\n",
            "\n",
            "=== Accuracy ===\n",
            "0.16145816501308857\n",
            "\n",
            "\n",
            "=== Classification Report ===\n"
          ],
          "name": "stdout"
        },
        {
          "output_type": "stream",
          "text": [
            "/usr/local/lib/python3.6/dist-packages/sklearn/metrics/_classification.py:1272: UndefinedMetricWarning: Precision and F-score are ill-defined and being set to 0.0 in labels with no predicted samples. Use `zero_division` parameter to control this behavior.\n",
            "  _warn_prf(average, modifier, msg_start, len(result))\n"
          ],
          "name": "stderr"
        },
        {
          "output_type": "stream",
          "text": [
            "                    precision    recall  f1-score   support\n",
            "\n",
            "          american       0.14      0.38      0.20      4417\n",
            "      asian fusion       0.00      0.00      0.00      1116\n",
            "              bars       0.24      0.13      0.17      4112\n",
            "breakfast & brunch       0.27      0.01      0.02      2686\n",
            "           burgers       0.00      0.00      0.00      1266\n",
            "           chinese       0.18      0.04      0.07      1038\n",
            "     cocktail bars       0.00      0.00      0.00      1115\n",
            "           italian       0.00      0.00      0.00      1453\n",
            "          japanese       0.00      0.00      0.00      1483\n",
            "           mexican       0.40      0.00      0.00      1658\n",
            "         nightlife       0.15      0.43      0.22      4194\n",
            "             pizza       0.20      0.00      0.00      1339\n",
            "        sandwiches       0.17      0.40      0.24      1586\n",
            "           seafood       0.41      0.01      0.02      1339\n",
            "       steakhouses       0.28      0.26      0.27      1086\n",
            "        sushi bars       0.50      0.00      0.00      1055\n",
            "\n",
            "          accuracy                           0.16     30943\n",
            "         macro avg       0.18      0.10      0.08     30943\n",
            "      weighted avg       0.19      0.16      0.11     30943\n",
            "\n"
          ],
          "name": "stdout"
        }
      ]
    },
    {
      "cell_type": "markdown",
      "metadata": {
        "id": "Mt0la1677fuq"
      },
      "source": [
        "**Hyper Parameter tuning**"
      ]
    },
    {
      "cell_type": "code",
      "metadata": {
        "colab": {
          "base_uri": "https://localhost:8080/"
        },
        "id": "RBhiRox96bK_",
        "outputId": "7a3f44fe-bca1-49a9-b218-042adbd1aa1a"
      },
      "source": [
        "from sklearn.model_selection import RandomizedSearchCV\n",
        "# number of trees in random forest\n",
        "n_estimators = [int(x) for x in np.linspace(start = 100, stop = 2000, num = 10)]\n",
        "# number of features at every split\n",
        "max_features = ['auto', 'sqrt']\n",
        "\n",
        "# max depth\n",
        "max_depth = [int(x) for x in np.linspace(50, 500, num = 10)]\n",
        "max_depth.append(None)\n",
        "# create random grid\n",
        "random_grid = {\n",
        " 'n_estimators': n_estimators,\n",
        " 'max_features': max_features,\n",
        " 'max_depth': max_depth\n",
        " }\n",
        "# Random search of parameters\n",
        "rfc_random = RandomizedSearchCV(estimator = rfc, param_distributions = random_grid, n_iter = 1, cv = 10, verbose=2, random_state=42, n_jobs = 1)\n",
        "# Fit the model\n",
        "rfc_random.fit(x_train, y_train)\n",
        "# print results\n",
        "print(rfc_random.best_params_)"
      ],
      "execution_count": 57,
      "outputs": [
        {
          "output_type": "stream",
          "text": [
            "Fitting 10 folds for each of 1 candidates, totalling 10 fits\n",
            "[CV] n_estimators=522, max_features=auto, max_depth=300 ..............\n"
          ],
          "name": "stdout"
        },
        {
          "output_type": "stream",
          "text": [
            "[Parallel(n_jobs=1)]: Using backend SequentialBackend with 1 concurrent workers.\n"
          ],
          "name": "stderr"
        },
        {
          "output_type": "stream",
          "text": [
            "[CV]  n_estimators=522, max_features=auto, max_depth=300, total=   7.3s\n",
            "[CV] n_estimators=522, max_features=auto, max_depth=300 ..............\n"
          ],
          "name": "stdout"
        },
        {
          "output_type": "stream",
          "text": [
            "[Parallel(n_jobs=1)]: Done   1 out of   1 | elapsed:    7.3s remaining:    0.0s\n"
          ],
          "name": "stderr"
        },
        {
          "output_type": "stream",
          "text": [
            "[CV]  n_estimators=522, max_features=auto, max_depth=300, total=   7.3s\n",
            "[CV] n_estimators=522, max_features=auto, max_depth=300 ..............\n",
            "[CV]  n_estimators=522, max_features=auto, max_depth=300, total=   7.3s\n",
            "[CV] n_estimators=522, max_features=auto, max_depth=300 ..............\n",
            "[CV]  n_estimators=522, max_features=auto, max_depth=300, total=   7.4s\n",
            "[CV] n_estimators=522, max_features=auto, max_depth=300 ..............\n",
            "[CV]  n_estimators=522, max_features=auto, max_depth=300, total=   7.4s\n",
            "[CV] n_estimators=522, max_features=auto, max_depth=300 ..............\n",
            "[CV]  n_estimators=522, max_features=auto, max_depth=300, total=   7.4s\n",
            "[CV] n_estimators=522, max_features=auto, max_depth=300 ..............\n",
            "[CV]  n_estimators=522, max_features=auto, max_depth=300, total=   7.3s\n",
            "[CV] n_estimators=522, max_features=auto, max_depth=300 ..............\n",
            "[CV]  n_estimators=522, max_features=auto, max_depth=300, total=   7.3s\n",
            "[CV] n_estimators=522, max_features=auto, max_depth=300 ..............\n",
            "[CV]  n_estimators=522, max_features=auto, max_depth=300, total=   7.3s\n",
            "[CV] n_estimators=522, max_features=auto, max_depth=300 ..............\n",
            "[CV]  n_estimators=522, max_features=auto, max_depth=300, total=   7.3s\n"
          ],
          "name": "stdout"
        },
        {
          "output_type": "stream",
          "text": [
            "[Parallel(n_jobs=1)]: Done  10 out of  10 | elapsed:  1.2min finished\n"
          ],
          "name": "stderr"
        },
        {
          "output_type": "stream",
          "text": [
            "{'n_estimators': 522, 'max_features': 'auto', 'max_depth': 300}\n"
          ],
          "name": "stdout"
        }
      ]
    },
    {
      "cell_type": "code",
      "metadata": {
        "colab": {
          "base_uri": "https://localhost:8080/"
        },
        "id": "Uw5xUhZiMK6x",
        "outputId": "66026d0d-0c8b-4885-b577-f38fbccc57dc"
      },
      "source": [
        "rfc = RandomForestClassifier(n_estimators=522, max_depth=300, max_features='sqrt')\n",
        "rfc.fit(x_train,y_train)\n",
        "rfc_predict1 = rfc.predict(x_test)\n",
        "\n",
        "\n",
        "print(\"=== Confusion Matrix ===\")\n",
        "\n",
        "print(multilabel_confusion_matrix(y_test, rfc_predict1, labels= [\"american\",\n",
        "                                  \"asian fusion\",\"bars\",\"breakfast & brunch\",\n",
        "                                  \"burgers\",\"chinese\",\"cocktail bars\",\"italian\",\n",
        "                                  \"japanese\",\"mexican\",\"nightlife\",\"pizza\",\n",
        "                                  \"sandwiches\",\"seafood\",\"steakhouses\",\"sushi bars\"]))\n",
        "\n",
        "print('\\n')\n",
        "print(\"=== Accuracy ===\")\n",
        "print(accuracy_score(y_test,rfc_predict1))\n",
        "print('\\n')\n",
        "print(\"=== Classification Report ===\")\n",
        "print(classification_report(y_test, rfc_predict1))"
      ],
      "execution_count": 58,
      "outputs": [
        {
          "output_type": "stream",
          "text": [
            "=== Confusion Matrix ===\n",
            "[[[16315 10211]\n",
            "  [ 2753  1664]]\n",
            "\n",
            " [[29827     0]\n",
            "  [ 1116     0]]\n",
            "\n",
            " [[25132  1699]\n",
            "  [ 3577   535]]\n",
            "\n",
            " [[28257     0]\n",
            "  [ 2686     0]]\n",
            "\n",
            " [[29677     0]\n",
            "  [ 1266     0]]\n",
            "\n",
            " [[29693   212]\n",
            "  [  993    45]]\n",
            "\n",
            " [[29825     3]\n",
            "  [ 1115     0]]\n",
            "\n",
            " [[29490     0]\n",
            "  [ 1453     0]]\n",
            "\n",
            " [[29459     1]\n",
            "  [ 1482     1]]\n",
            "\n",
            " [[29282     3]\n",
            "  [ 1656     2]]\n",
            "\n",
            " [[16800  9949]\n",
            "  [ 2405  1789]]\n",
            "\n",
            " [[29596     8]\n",
            "  [ 1337     2]]\n",
            "\n",
            " [[26229  3128]\n",
            "  [  937   649]]\n",
            "\n",
            " [[29582    22]\n",
            "  [ 1324    15]]\n",
            "\n",
            " [[29136   721]\n",
            "  [  802   284]]\n",
            "\n",
            " [[29888     0]\n",
            "  [ 1055     0]]]\n",
            "\n",
            "\n",
            "=== Accuracy ===\n",
            "0.16113499014316646\n",
            "\n",
            "\n",
            "=== Classification Report ===\n"
          ],
          "name": "stdout"
        },
        {
          "output_type": "stream",
          "text": [
            "/usr/local/lib/python3.6/dist-packages/sklearn/metrics/_classification.py:1272: UndefinedMetricWarning: Precision and F-score are ill-defined and being set to 0.0 in labels with no predicted samples. Use `zero_division` parameter to control this behavior.\n",
            "  _warn_prf(average, modifier, msg_start, len(result))\n"
          ],
          "name": "stderr"
        },
        {
          "output_type": "stream",
          "text": [
            "                    precision    recall  f1-score   support\n",
            "\n",
            "          american       0.14      0.38      0.20      4417\n",
            "      asian fusion       0.00      0.00      0.00      1116\n",
            "              bars       0.24      0.13      0.17      4112\n",
            "breakfast & brunch       0.00      0.00      0.00      2686\n",
            "           burgers       0.00      0.00      0.00      1266\n",
            "           chinese       0.18      0.04      0.07      1038\n",
            "     cocktail bars       0.00      0.00      0.00      1115\n",
            "           italian       0.00      0.00      0.00      1453\n",
            "          japanese       0.50      0.00      0.00      1483\n",
            "           mexican       0.40      0.00      0.00      1658\n",
            "         nightlife       0.15      0.43      0.22      4194\n",
            "             pizza       0.20      0.00      0.00      1339\n",
            "        sandwiches       0.17      0.41      0.24      1586\n",
            "           seafood       0.41      0.01      0.02      1339\n",
            "       steakhouses       0.28      0.26      0.27      1086\n",
            "        sushi bars       0.00      0.00      0.00      1055\n",
            "\n",
            "          accuracy                           0.16     30943\n",
            "         macro avg       0.17      0.10      0.08     30943\n",
            "      weighted avg       0.17      0.16      0.11     30943\n",
            "\n"
          ],
          "name": "stdout"
        }
      ]
    },
    {
      "cell_type": "markdown",
      "metadata": {
        "id": "xMrtSzRlVWDj"
      },
      "source": [
        "**XG Boost**"
      ]
    },
    {
      "cell_type": "code",
      "metadata": {
        "id": "JlST3b2pVNGA"
      },
      "source": [
        "from xgboost import XGBClassifier"
      ],
      "execution_count": 37,
      "outputs": []
    },
    {
      "cell_type": "code",
      "metadata": {
        "colab": {
          "base_uri": "https://localhost:8080/"
        },
        "id": "dhMSgnSaVla0",
        "outputId": "c3124361-5582-4fc0-f734-2b7e05bf6591"
      },
      "source": [
        "# fit model no training data\n",
        "model = XGBClassifier()\n",
        "model.fit(x_train, y_train)"
      ],
      "execution_count": 38,
      "outputs": [
        {
          "output_type": "execute_result",
          "data": {
            "text/plain": [
              "XGBClassifier(base_score=0.5, booster='gbtree', colsample_bylevel=1,\n",
              "              colsample_bynode=1, colsample_bytree=1, gamma=0,\n",
              "              learning_rate=0.1, max_delta_step=0, max_depth=3,\n",
              "              min_child_weight=1, missing=None, n_estimators=100, n_jobs=1,\n",
              "              nthread=None, objective='multi:softprob', random_state=0,\n",
              "              reg_alpha=0, reg_lambda=1, scale_pos_weight=1, seed=None,\n",
              "              silent=None, subsample=1, verbosity=1)"
            ]
          },
          "metadata": {
            "tags": []
          },
          "execution_count": 38
        }
      ]
    },
    {
      "cell_type": "code",
      "metadata": {
        "id": "KmEmcPSvVlkk"
      },
      "source": [
        "# make predictions for test data\n",
        "y_pred = model.predict(x_test)"
      ],
      "execution_count": 39,
      "outputs": []
    },
    {
      "cell_type": "code",
      "metadata": {
        "colab": {
          "base_uri": "https://localhost:8080/"
        },
        "id": "Fyzm--BkVlqa",
        "outputId": "280ada8c-8ca2-43e4-dd66-923a3f702ae7"
      },
      "source": [
        "accuracy = accuracy_score(y_test, y_pred)\n",
        "print(\"Accuracy: %.2f%%\" % (accuracy * 100.0))\n",
        "\n",
        "print(classification_report(y_test, y_pred))"
      ],
      "execution_count": 42,
      "outputs": [
        {
          "output_type": "stream",
          "text": [
            "Accuracy: 16.16%\n"
          ],
          "name": "stdout"
        },
        {
          "output_type": "stream",
          "text": [
            "/usr/local/lib/python3.6/dist-packages/sklearn/metrics/_classification.py:1272: UndefinedMetricWarning: Precision and F-score are ill-defined and being set to 0.0 in labels with no predicted samples. Use `zero_division` parameter to control this behavior.\n",
            "  _warn_prf(average, modifier, msg_start, len(result))\n"
          ],
          "name": "stderr"
        },
        {
          "output_type": "stream",
          "text": [
            "                    precision    recall  f1-score   support\n",
            "\n",
            "          american       0.14      0.35      0.20      4417\n",
            "      asian fusion       0.00      0.00      0.00      1116\n",
            "              bars       0.24      0.13      0.17      4112\n",
            "breakfast & brunch       0.27      0.01      0.02      2686\n",
            "           burgers       0.00      0.00      0.00      1266\n",
            "           chinese       0.18      0.04      0.07      1038\n",
            "     cocktail bars       0.00      0.00      0.00      1115\n",
            "           italian       0.00      0.00      0.00      1453\n",
            "          japanese       0.00      0.00      0.00      1483\n",
            "           mexican       0.40      0.00      0.01      1658\n",
            "         nightlife       0.15      0.45      0.23      4194\n",
            "             pizza       0.00      0.00      0.00      1339\n",
            "        sandwiches       0.17      0.40      0.24      1586\n",
            "           seafood       0.50      0.01      0.02      1339\n",
            "       steakhouses       0.28      0.26      0.27      1086\n",
            "        sushi bars       0.50      0.00      0.00      1055\n",
            "\n",
            "          accuracy                           0.16     30943\n",
            "         macro avg       0.18      0.10      0.08     30943\n",
            "      weighted avg       0.18      0.16      0.11     30943\n",
            "\n"
          ],
          "name": "stdout"
        }
      ]
    },
    {
      "cell_type": "code",
      "metadata": {
        "id": "_jPlB_IkW-RF"
      },
      "source": [
        "from sklearn.datasets import make_classification\n",
        "from sklearn.ensemble import GradientBoostingClassifier"
      ],
      "execution_count": 43,
      "outputs": []
    },
    {
      "cell_type": "code",
      "metadata": {
        "id": "FrXlq5d8W-e2"
      },
      "source": [
        "clf = GradientBoostingClassifier(random_state=0)\n",
        "clf.fit(x_train, y_train)\n",
        "\n",
        "cl=clf.predict(x_test)"
      ],
      "execution_count": 47,
      "outputs": []
    },
    {
      "cell_type": "code",
      "metadata": {
        "colab": {
          "base_uri": "https://localhost:8080/"
        },
        "id": "zggN0DvDW-hz",
        "outputId": "7942f0c2-7c7f-42a5-85a6-5da1f26644ef"
      },
      "source": [
        "accuracy = accuracy_score(y_test, cl)\n",
        "print(\"Accuracy: %.2f%%\" % (accuracy * 100.0))\n",
        "\n",
        "print(classification_report(y_test, cl))"
      ],
      "execution_count": 50,
      "outputs": [
        {
          "output_type": "stream",
          "text": [
            "Accuracy: 16.08%\n"
          ],
          "name": "stdout"
        },
        {
          "output_type": "stream",
          "text": [
            "/usr/local/lib/python3.6/dist-packages/sklearn/metrics/_classification.py:1272: UndefinedMetricWarning: Precision and F-score are ill-defined and being set to 0.0 in labels with no predicted samples. Use `zero_division` parameter to control this behavior.\n",
            "  _warn_prf(average, modifier, msg_start, len(result))\n"
          ],
          "name": "stderr"
        },
        {
          "output_type": "stream",
          "text": [
            "                    precision    recall  f1-score   support\n",
            "\n",
            "          american       0.14      0.38      0.20      4417\n",
            "      asian fusion       0.00      0.00      0.00      1116\n",
            "              bars       0.24      0.13      0.17      4112\n",
            "breakfast & brunch       0.00      0.00      0.00      2686\n",
            "           burgers       0.00      0.00      0.00      1266\n",
            "           chinese       0.18      0.04      0.07      1038\n",
            "     cocktail bars       0.00      0.00      0.00      1115\n",
            "           italian       0.00      0.00      0.00      1453\n",
            "          japanese       0.00      0.00      0.00      1483\n",
            "           mexican       0.40      0.00      0.00      1658\n",
            "         nightlife       0.15      0.42      0.22      4194\n",
            "             pizza       0.20      0.00      0.00      1339\n",
            "        sandwiches       0.17      0.41      0.24      1586\n",
            "           seafood       0.50      0.01      0.02      1339\n",
            "       steakhouses       0.28      0.26      0.27      1086\n",
            "        sushi bars       0.50      0.00      0.00      1055\n",
            "\n",
            "          accuracy                           0.16     30943\n",
            "         macro avg       0.17      0.10      0.08     30943\n",
            "      weighted avg       0.17      0.16      0.11     30943\n",
            "\n"
          ],
          "name": "stdout"
        }
      ]
    },
    {
      "cell_type": "markdown",
      "metadata": {
        "id": "DPYnUzQhZVaG"
      },
      "source": [
        "**SVM**"
      ]
    },
    {
      "cell_type": "code",
      "metadata": {
        "id": "dKU3MYm8W-lL"
      },
      "source": [
        "from sklearn import svm"
      ],
      "execution_count": 51,
      "outputs": []
    },
    {
      "cell_type": "code",
      "metadata": {
        "id": "6zDtlsJ1aDKI"
      },
      "source": [
        "clf1 = svm.SVC(kernel='linear', C = 1.0)"
      ],
      "execution_count": 52,
      "outputs": []
    },
    {
      "cell_type": "code",
      "metadata": {
        "colab": {
          "base_uri": "https://localhost:8080/"
        },
        "id": "j6tiQzIVaDNH",
        "outputId": "1f9b1c91-4e5b-4871-c52f-757160838ef4"
      },
      "source": [
        "clf1.fit(x_train, y_train)"
      ],
      "execution_count": 53,
      "outputs": [
        {
          "output_type": "execute_result",
          "data": {
            "text/plain": [
              "SVC(C=1.0, break_ties=False, cache_size=200, class_weight=None, coef0=0.0,\n",
              "    decision_function_shape='ovr', degree=3, gamma='scale', kernel='linear',\n",
              "    max_iter=-1, probability=False, random_state=None, shrinking=True,\n",
              "    tol=0.001, verbose=False)"
            ]
          },
          "metadata": {
            "tags": []
          },
          "execution_count": 53
        }
      ]
    },
    {
      "cell_type": "code",
      "metadata": {
        "id": "tKh7EtxBaDP1"
      },
      "source": [
        "c=clf1.predict(x_test)"
      ],
      "execution_count": 54,
      "outputs": []
    },
    {
      "cell_type": "code",
      "metadata": {
        "colab": {
          "base_uri": "https://localhost:8080/"
        },
        "id": "4Q358Q3raDS5",
        "outputId": "3b69af25-e687-4f0f-82fd-3d74eb9f75af"
      },
      "source": [
        "accuracy = accuracy_score(y_test, c)\n",
        "print(\"Accuracy: %.2f%%\" % (accuracy * 100.0))\n",
        "\n",
        "print(classification_report(y_test, c))"
      ],
      "execution_count": 55,
      "outputs": [
        {
          "output_type": "stream",
          "text": [
            "Accuracy: 15.35%\n"
          ],
          "name": "stdout"
        },
        {
          "output_type": "stream",
          "text": [
            "/usr/local/lib/python3.6/dist-packages/sklearn/metrics/_classification.py:1272: UndefinedMetricWarning: Precision and F-score are ill-defined and being set to 0.0 in labels with no predicted samples. Use `zero_division` parameter to control this behavior.\n",
            "  _warn_prf(average, modifier, msg_start, len(result))\n"
          ],
          "name": "stderr"
        },
        {
          "output_type": "stream",
          "text": [
            "                    precision    recall  f1-score   support\n",
            "\n",
            "          american       0.14      0.67      0.23      4417\n",
            "      asian fusion       0.00      0.00      0.00      1116\n",
            "              bars       0.00      0.00      0.00      4112\n",
            "breakfast & brunch       0.00      0.00      0.00      2686\n",
            "           burgers       0.00      0.00      0.00      1266\n",
            "           chinese       0.00      0.00      0.00      1038\n",
            "     cocktail bars       0.00      0.00      0.00      1115\n",
            "           italian       0.00      0.00      0.00      1453\n",
            "          japanese       0.00      0.00      0.00      1483\n",
            "           mexican       0.05      0.00      0.01      1658\n",
            "         nightlife       0.20      0.26      0.22      4194\n",
            "             pizza       0.00      0.00      0.00      1339\n",
            "        sandwiches       0.18      0.45      0.25      1586\n",
            "           seafood       0.00      0.00      0.00      1339\n",
            "       steakhouses       0.00      0.00      0.00      1086\n",
            "        sushi bars       0.00      0.00      0.00      1055\n",
            "\n",
            "          accuracy                           0.15     30943\n",
            "         macro avg       0.04      0.09      0.04     30943\n",
            "      weighted avg       0.06      0.15      0.08     30943\n",
            "\n"
          ],
          "name": "stdout"
        }
      ]
    }
  ]
}